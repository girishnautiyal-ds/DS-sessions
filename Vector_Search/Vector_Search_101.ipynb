{
  "cells": [
    {
      "cell_type": "markdown",
      "metadata": {
        "id": "FZVq8FSnvY_o"
      },
      "source": [
        "# Vector Search 101 - Hands On\n",
        "This notebook demonstrates embedding generation, similarity calculation, and vector indexing with FAISS."
      ]
    },
    {
      "cell_type": "code",
      "execution_count": 2,
      "metadata": {
        "id": "sq8CSHaBvY_p"
      },
      "outputs": [],
      "source": [
        "# Install required packages\n",
        "!pip install -q sentence-transformers faiss-cpu"
      ]
    },
    {
      "cell_type": "code",
      "source": [
        "# Imports\n",
        "from sentence_transformers import SentenceTransformer\n",
        "import faiss\n",
        "from sklearn.metrics.pairwise import cosine_similarity\n",
        "import numpy as np\n",
        "import pandas as pd"
      ],
      "metadata": {
        "id": "35Lb-lGFyHg9"
      },
      "execution_count": 3,
      "outputs": []
    },
    {
      "cell_type": "markdown",
      "source": [
        "# Step 1: Define your document corpus"
      ],
      "metadata": {
        "id": "8okYJPR3X1w4"
      }
    },
    {
      "cell_type": "code",
      "source": [
        "documents = [\n",
        "    \"Cats are small, carnivorous mammals that are often kept as pets.\",\n",
        "    \"Dogs are loyal animals and are known for their companionship.\",\n",
        "    \"The sun is the star at the center of the solar system.\",\n",
        "    \"Artificial Intelligence is a branch of computer science focused on building smart machines.\",\n",
        "    \"Python is a popular programming language known for its simplicity.\",\n",
        "    \"Python is a breed of snakes\",\n",
        "    \"SpaceX was founded by Elon Musk to revolutionize space transportation.\",\n",
        "    \"Machine Learning is a subset of AI that allows systems to learn from data.\",\n",
        "    \"The Great Wall of China is one of the largest man-made structures in the world.\"\n",
        "]"
      ],
      "metadata": {
        "id": "Ag51qYdiyLwQ"
      },
      "execution_count": 25,
      "outputs": []
    },
    {
      "cell_type": "code",
      "source": [
        "# Check size of documents\n",
        "print(len(documents))"
      ],
      "metadata": {
        "colab": {
          "base_uri": "https://localhost:8080/"
        },
        "id": "2lKwDVjhKxe6",
        "outputId": "c06ee0c1-ef8a-4e8e-f57e-8ab046bc91b0"
      },
      "execution_count": 26,
      "outputs": [
        {
          "output_type": "stream",
          "name": "stdout",
          "text": [
            "9\n"
          ]
        }
      ]
    },
    {
      "cell_type": "markdown",
      "source": [
        "# Step 2: Load a pre-trained sentence transformer model"
      ],
      "metadata": {
        "id": "sMenPoSxYBU1"
      }
    },
    {
      "cell_type": "code",
      "source": [
        "## Link: https://huggingface.co/sentence-transformers?sort_models=likes#models\n",
        "model = SentenceTransformer('all-MiniLM-L6-v2')"
      ],
      "metadata": {
        "id": "esbNATt8yMCk"
      },
      "execution_count": 27,
      "outputs": []
    },
    {
      "cell_type": "markdown",
      "source": [
        "# Step 3: Create embeddings for documents"
      ],
      "metadata": {
        "id": "6qmK3VlCYHEf"
      }
    },
    {
      "cell_type": "code",
      "source": [
        "doc_embeddings = model.encode(documents, convert_to_numpy=True)"
      ],
      "metadata": {
        "id": "yJ3aXddhyMHG"
      },
      "execution_count": 28,
      "outputs": []
    },
    {
      "cell_type": "markdown",
      "source": [
        "### Check embeddings"
      ],
      "metadata": {
        "id": "ddJDSzj9YIrL"
      }
    },
    {
      "cell_type": "code",
      "source": [
        "doc_embeddings"
      ],
      "metadata": {
        "colab": {
          "base_uri": "https://localhost:8080/"
        },
        "id": "eQC1HY-AKsMp",
        "outputId": "1be8aa29-3be2-4b60-a3d7-03f960351cdd"
      },
      "execution_count": 29,
      "outputs": [
        {
          "output_type": "execute_result",
          "data": {
            "text/plain": [
              "array([[ 0.10721366,  0.05871374, -0.00794898, ...,  0.18576948,\n",
              "         0.12180948,  0.05453058],\n",
              "       [-0.03625739, -0.03113479,  0.06340972, ...,  0.11209203,\n",
              "         0.119016  , -0.0097626 ],\n",
              "       [ 0.00140531,  0.08775607, -0.01453394, ...,  0.03924378,\n",
              "        -0.01461147,  0.07231349],\n",
              "       ...,\n",
              "       [ 0.00848975,  0.01577356,  0.08695587, ...,  0.00490149,\n",
              "         0.02572214,  0.04021992],\n",
              "       [-0.02949186,  0.00848798,  0.03031458, ...,  0.0846801 ,\n",
              "         0.04997958, -0.05509678],\n",
              "       [ 0.02989549,  0.06764077, -0.00119817, ..., -0.05169354,\n",
              "         0.01318319,  0.05810451]], dtype=float32)"
            ]
          },
          "metadata": {},
          "execution_count": 29
        }
      ]
    },
    {
      "cell_type": "code",
      "source": [
        "type(doc_embeddings)"
      ],
      "metadata": {
        "colab": {
          "base_uri": "https://localhost:8080/"
        },
        "id": "rcGizLkZQhvF",
        "outputId": "e1940a1c-230a-4df7-df9b-17335041bcf6"
      },
      "execution_count": 30,
      "outputs": [
        {
          "output_type": "execute_result",
          "data": {
            "text/plain": [
              "numpy.ndarray"
            ]
          },
          "metadata": {},
          "execution_count": 30
        }
      ]
    },
    {
      "cell_type": "code",
      "source": [
        "# embeddings shape for your documents\n",
        "doc_embeddings.shape"
      ],
      "metadata": {
        "colab": {
          "base_uri": "https://localhost:8080/"
        },
        "id": "OgN-UKn3y59b",
        "outputId": "d1732e06-3d13-428b-9b11-3dd37ecdacc9"
      },
      "execution_count": 31,
      "outputs": [
        {
          "output_type": "execute_result",
          "data": {
            "text/plain": [
              "(9, 384)"
            ]
          },
          "metadata": {},
          "execution_count": 31
        }
      ]
    },
    {
      "cell_type": "markdown",
      "source": [
        "### Check Similarity using Cosine Similarity"
      ],
      "metadata": {
        "id": "47HJ2sQuO-ei"
      }
    },
    {
      "cell_type": "code",
      "source": [
        "# Calculate Cosine Similarity\n",
        "cosine_similarity_mat = cosine_similarity(doc_embeddings)"
      ],
      "metadata": {
        "id": "-ovuORy2dcFQ"
      },
      "execution_count": 32,
      "outputs": []
    },
    {
      "cell_type": "code",
      "source": [
        "# Show the similarity visually\n",
        "pd.DataFrame(cosine_similarity_mat, index=documents, columns=documents)"
      ],
      "metadata": {
        "colab": {
          "base_uri": "https://localhost:8080/",
          "height": 1000
        },
        "id": "ktUBLHwLPVw4",
        "outputId": "da5785cf-a746-48b6-c4b0-64c30f85f6a7"
      },
      "execution_count": 33,
      "outputs": [
        {
          "output_type": "execute_result",
          "data": {
            "text/plain": [
              "                                                    Cats are small, carnivorous mammals that are often kept as pets.  ...  The Great Wall of China is one of the largest man-made structures in the world.\n",
              "Cats are small, carnivorous mammals that are of...                                           1.000000                 ...                                           0.034270                              \n",
              "Dogs are loyal animals and are known for their ...                                           0.443965                 ...                                          -0.018565                              \n",
              "The sun is the star at the center of the solar ...                                           0.106590                 ...                                           0.029088                              \n",
              "Artificial Intelligence is a branch of computer...                                          -0.033844                 ...                                           0.184527                              \n",
              "Python is a popular programming language known ...                                           0.152346                 ...                                           0.092387                              \n",
              "Python is a breed of snakes                                                                  0.245133                 ...                                           0.090764                              \n",
              "SpaceX was founded by Elon Musk to revolutioniz...                                          -0.014112                 ...                                           0.116920                              \n",
              "Machine Learning is a subset of AI that allows ...                                           0.024458                 ...                                           0.006263                              \n",
              "The Great Wall of China is one of the largest m...                                           0.034270                 ...                                           1.000000                              \n",
              "\n",
              "[9 rows x 9 columns]"
            ],
            "text/html": [
              "\n",
              "  <div id=\"df-828a2625-789f-49ff-bd1e-c30eb15e7a60\" class=\"colab-df-container\">\n",
              "    <div>\n",
              "<style scoped>\n",
              "    .dataframe tbody tr th:only-of-type {\n",
              "        vertical-align: middle;\n",
              "    }\n",
              "\n",
              "    .dataframe tbody tr th {\n",
              "        vertical-align: top;\n",
              "    }\n",
              "\n",
              "    .dataframe thead th {\n",
              "        text-align: right;\n",
              "    }\n",
              "</style>\n",
              "<table border=\"1\" class=\"dataframe\">\n",
              "  <thead>\n",
              "    <tr style=\"text-align: right;\">\n",
              "      <th></th>\n",
              "      <th>Cats are small, carnivorous mammals that are often kept as pets.</th>\n",
              "      <th>Dogs are loyal animals and are known for their companionship.</th>\n",
              "      <th>The sun is the star at the center of the solar system.</th>\n",
              "      <th>Artificial Intelligence is a branch of computer science focused on building smart machines.</th>\n",
              "      <th>Python is a popular programming language known for its simplicity.</th>\n",
              "      <th>Python is a breed of snakes</th>\n",
              "      <th>SpaceX was founded by Elon Musk to revolutionize space transportation.</th>\n",
              "      <th>Machine Learning is a subset of AI that allows systems to learn from data.</th>\n",
              "      <th>The Great Wall of China is one of the largest man-made structures in the world.</th>\n",
              "    </tr>\n",
              "  </thead>\n",
              "  <tbody>\n",
              "    <tr>\n",
              "      <th>Cats are small, carnivorous mammals that are often kept as pets.</th>\n",
              "      <td>1.000000</td>\n",
              "      <td>0.443965</td>\n",
              "      <td>0.106590</td>\n",
              "      <td>-0.033844</td>\n",
              "      <td>0.152346</td>\n",
              "      <td>0.245133</td>\n",
              "      <td>-0.014112</td>\n",
              "      <td>0.024458</td>\n",
              "      <td>0.034270</td>\n",
              "    </tr>\n",
              "    <tr>\n",
              "      <th>Dogs are loyal animals and are known for their companionship.</th>\n",
              "      <td>0.443965</td>\n",
              "      <td>1.000000</td>\n",
              "      <td>0.101228</td>\n",
              "      <td>0.070075</td>\n",
              "      <td>0.167551</td>\n",
              "      <td>0.226379</td>\n",
              "      <td>-0.046525</td>\n",
              "      <td>0.156391</td>\n",
              "      <td>-0.018565</td>\n",
              "    </tr>\n",
              "    <tr>\n",
              "      <th>The sun is the star at the center of the solar system.</th>\n",
              "      <td>0.106590</td>\n",
              "      <td>0.101228</td>\n",
              "      <td>1.000000</td>\n",
              "      <td>0.094035</td>\n",
              "      <td>0.041704</td>\n",
              "      <td>-0.049736</td>\n",
              "      <td>0.209648</td>\n",
              "      <td>0.124073</td>\n",
              "      <td>0.029088</td>\n",
              "    </tr>\n",
              "    <tr>\n",
              "      <th>Artificial Intelligence is a branch of computer science focused on building smart machines.</th>\n",
              "      <td>-0.033844</td>\n",
              "      <td>0.070075</td>\n",
              "      <td>0.094035</td>\n",
              "      <td>1.000000</td>\n",
              "      <td>0.251918</td>\n",
              "      <td>0.077701</td>\n",
              "      <td>0.140664</td>\n",
              "      <td>0.628817</td>\n",
              "      <td>0.184527</td>\n",
              "    </tr>\n",
              "    <tr>\n",
              "      <th>Python is a popular programming language known for its simplicity.</th>\n",
              "      <td>0.152346</td>\n",
              "      <td>0.167551</td>\n",
              "      <td>0.041704</td>\n",
              "      <td>0.251918</td>\n",
              "      <td>1.000000</td>\n",
              "      <td>0.577643</td>\n",
              "      <td>0.136825</td>\n",
              "      <td>0.217712</td>\n",
              "      <td>0.092387</td>\n",
              "    </tr>\n",
              "    <tr>\n",
              "      <th>Python is a breed of snakes</th>\n",
              "      <td>0.245133</td>\n",
              "      <td>0.226379</td>\n",
              "      <td>-0.049736</td>\n",
              "      <td>0.077701</td>\n",
              "      <td>0.577643</td>\n",
              "      <td>1.000000</td>\n",
              "      <td>0.041895</td>\n",
              "      <td>0.030214</td>\n",
              "      <td>0.090764</td>\n",
              "    </tr>\n",
              "    <tr>\n",
              "      <th>SpaceX was founded by Elon Musk to revolutionize space transportation.</th>\n",
              "      <td>-0.014112</td>\n",
              "      <td>-0.046525</td>\n",
              "      <td>0.209648</td>\n",
              "      <td>0.140664</td>\n",
              "      <td>0.136825</td>\n",
              "      <td>0.041895</td>\n",
              "      <td>1.000000</td>\n",
              "      <td>0.055413</td>\n",
              "      <td>0.116920</td>\n",
              "    </tr>\n",
              "    <tr>\n",
              "      <th>Machine Learning is a subset of AI that allows systems to learn from data.</th>\n",
              "      <td>0.024458</td>\n",
              "      <td>0.156391</td>\n",
              "      <td>0.124073</td>\n",
              "      <td>0.628817</td>\n",
              "      <td>0.217712</td>\n",
              "      <td>0.030214</td>\n",
              "      <td>0.055413</td>\n",
              "      <td>1.000000</td>\n",
              "      <td>0.006263</td>\n",
              "    </tr>\n",
              "    <tr>\n",
              "      <th>The Great Wall of China is one of the largest man-made structures in the world.</th>\n",
              "      <td>0.034270</td>\n",
              "      <td>-0.018565</td>\n",
              "      <td>0.029088</td>\n",
              "      <td>0.184527</td>\n",
              "      <td>0.092387</td>\n",
              "      <td>0.090764</td>\n",
              "      <td>0.116920</td>\n",
              "      <td>0.006263</td>\n",
              "      <td>1.000000</td>\n",
              "    </tr>\n",
              "  </tbody>\n",
              "</table>\n",
              "</div>\n",
              "    <div class=\"colab-df-buttons\">\n",
              "\n",
              "  <div class=\"colab-df-container\">\n",
              "    <button class=\"colab-df-convert\" onclick=\"convertToInteractive('df-828a2625-789f-49ff-bd1e-c30eb15e7a60')\"\n",
              "            title=\"Convert this dataframe to an interactive table.\"\n",
              "            style=\"display:none;\">\n",
              "\n",
              "  <svg xmlns=\"http://www.w3.org/2000/svg\" height=\"24px\" viewBox=\"0 -960 960 960\">\n",
              "    <path d=\"M120-120v-720h720v720H120Zm60-500h600v-160H180v160Zm220 220h160v-160H400v160Zm0 220h160v-160H400v160ZM180-400h160v-160H180v160Zm440 0h160v-160H620v160ZM180-180h160v-160H180v160Zm440 0h160v-160H620v160Z\"/>\n",
              "  </svg>\n",
              "    </button>\n",
              "\n",
              "  <style>\n",
              "    .colab-df-container {\n",
              "      display:flex;\n",
              "      gap: 12px;\n",
              "    }\n",
              "\n",
              "    .colab-df-convert {\n",
              "      background-color: #E8F0FE;\n",
              "      border: none;\n",
              "      border-radius: 50%;\n",
              "      cursor: pointer;\n",
              "      display: none;\n",
              "      fill: #1967D2;\n",
              "      height: 32px;\n",
              "      padding: 0 0 0 0;\n",
              "      width: 32px;\n",
              "    }\n",
              "\n",
              "    .colab-df-convert:hover {\n",
              "      background-color: #E2EBFA;\n",
              "      box-shadow: 0px 1px 2px rgba(60, 64, 67, 0.3), 0px 1px 3px 1px rgba(60, 64, 67, 0.15);\n",
              "      fill: #174EA6;\n",
              "    }\n",
              "\n",
              "    .colab-df-buttons div {\n",
              "      margin-bottom: 4px;\n",
              "    }\n",
              "\n",
              "    [theme=dark] .colab-df-convert {\n",
              "      background-color: #3B4455;\n",
              "      fill: #D2E3FC;\n",
              "    }\n",
              "\n",
              "    [theme=dark] .colab-df-convert:hover {\n",
              "      background-color: #434B5C;\n",
              "      box-shadow: 0px 1px 3px 1px rgba(0, 0, 0, 0.15);\n",
              "      filter: drop-shadow(0px 1px 2px rgba(0, 0, 0, 0.3));\n",
              "      fill: #FFFFFF;\n",
              "    }\n",
              "  </style>\n",
              "\n",
              "    <script>\n",
              "      const buttonEl =\n",
              "        document.querySelector('#df-828a2625-789f-49ff-bd1e-c30eb15e7a60 button.colab-df-convert');\n",
              "      buttonEl.style.display =\n",
              "        google.colab.kernel.accessAllowed ? 'block' : 'none';\n",
              "\n",
              "      async function convertToInteractive(key) {\n",
              "        const element = document.querySelector('#df-828a2625-789f-49ff-bd1e-c30eb15e7a60');\n",
              "        const dataTable =\n",
              "          await google.colab.kernel.invokeFunction('convertToInteractive',\n",
              "                                                    [key], {});\n",
              "        if (!dataTable) return;\n",
              "\n",
              "        const docLinkHtml = 'Like what you see? Visit the ' +\n",
              "          '<a target=\"_blank\" href=https://colab.research.google.com/notebooks/data_table.ipynb>data table notebook</a>'\n",
              "          + ' to learn more about interactive tables.';\n",
              "        element.innerHTML = '';\n",
              "        dataTable['output_type'] = 'display_data';\n",
              "        await google.colab.output.renderOutput(dataTable, element);\n",
              "        const docLink = document.createElement('div');\n",
              "        docLink.innerHTML = docLinkHtml;\n",
              "        element.appendChild(docLink);\n",
              "      }\n",
              "    </script>\n",
              "  </div>\n",
              "\n",
              "\n",
              "    <div id=\"df-2ce26e3f-7c49-4032-9329-c4756ef08e85\">\n",
              "      <button class=\"colab-df-quickchart\" onclick=\"quickchart('df-2ce26e3f-7c49-4032-9329-c4756ef08e85')\"\n",
              "                title=\"Suggest charts\"\n",
              "                style=\"display:none;\">\n",
              "\n",
              "<svg xmlns=\"http://www.w3.org/2000/svg\" height=\"24px\"viewBox=\"0 0 24 24\"\n",
              "     width=\"24px\">\n",
              "    <g>\n",
              "        <path d=\"M19 3H5c-1.1 0-2 .9-2 2v14c0 1.1.9 2 2 2h14c1.1 0 2-.9 2-2V5c0-1.1-.9-2-2-2zM9 17H7v-7h2v7zm4 0h-2V7h2v10zm4 0h-2v-4h2v4z\"/>\n",
              "    </g>\n",
              "</svg>\n",
              "      </button>\n",
              "\n",
              "<style>\n",
              "  .colab-df-quickchart {\n",
              "      --bg-color: #E8F0FE;\n",
              "      --fill-color: #1967D2;\n",
              "      --hover-bg-color: #E2EBFA;\n",
              "      --hover-fill-color: #174EA6;\n",
              "      --disabled-fill-color: #AAA;\n",
              "      --disabled-bg-color: #DDD;\n",
              "  }\n",
              "\n",
              "  [theme=dark] .colab-df-quickchart {\n",
              "      --bg-color: #3B4455;\n",
              "      --fill-color: #D2E3FC;\n",
              "      --hover-bg-color: #434B5C;\n",
              "      --hover-fill-color: #FFFFFF;\n",
              "      --disabled-bg-color: #3B4455;\n",
              "      --disabled-fill-color: #666;\n",
              "  }\n",
              "\n",
              "  .colab-df-quickchart {\n",
              "    background-color: var(--bg-color);\n",
              "    border: none;\n",
              "    border-radius: 50%;\n",
              "    cursor: pointer;\n",
              "    display: none;\n",
              "    fill: var(--fill-color);\n",
              "    height: 32px;\n",
              "    padding: 0;\n",
              "    width: 32px;\n",
              "  }\n",
              "\n",
              "  .colab-df-quickchart:hover {\n",
              "    background-color: var(--hover-bg-color);\n",
              "    box-shadow: 0 1px 2px rgba(60, 64, 67, 0.3), 0 1px 3px 1px rgba(60, 64, 67, 0.15);\n",
              "    fill: var(--button-hover-fill-color);\n",
              "  }\n",
              "\n",
              "  .colab-df-quickchart-complete:disabled,\n",
              "  .colab-df-quickchart-complete:disabled:hover {\n",
              "    background-color: var(--disabled-bg-color);\n",
              "    fill: var(--disabled-fill-color);\n",
              "    box-shadow: none;\n",
              "  }\n",
              "\n",
              "  .colab-df-spinner {\n",
              "    border: 2px solid var(--fill-color);\n",
              "    border-color: transparent;\n",
              "    border-bottom-color: var(--fill-color);\n",
              "    animation:\n",
              "      spin 1s steps(1) infinite;\n",
              "  }\n",
              "\n",
              "  @keyframes spin {\n",
              "    0% {\n",
              "      border-color: transparent;\n",
              "      border-bottom-color: var(--fill-color);\n",
              "      border-left-color: var(--fill-color);\n",
              "    }\n",
              "    20% {\n",
              "      border-color: transparent;\n",
              "      border-left-color: var(--fill-color);\n",
              "      border-top-color: var(--fill-color);\n",
              "    }\n",
              "    30% {\n",
              "      border-color: transparent;\n",
              "      border-left-color: var(--fill-color);\n",
              "      border-top-color: var(--fill-color);\n",
              "      border-right-color: var(--fill-color);\n",
              "    }\n",
              "    40% {\n",
              "      border-color: transparent;\n",
              "      border-right-color: var(--fill-color);\n",
              "      border-top-color: var(--fill-color);\n",
              "    }\n",
              "    60% {\n",
              "      border-color: transparent;\n",
              "      border-right-color: var(--fill-color);\n",
              "    }\n",
              "    80% {\n",
              "      border-color: transparent;\n",
              "      border-right-color: var(--fill-color);\n",
              "      border-bottom-color: var(--fill-color);\n",
              "    }\n",
              "    90% {\n",
              "      border-color: transparent;\n",
              "      border-bottom-color: var(--fill-color);\n",
              "    }\n",
              "  }\n",
              "</style>\n",
              "\n",
              "      <script>\n",
              "        async function quickchart(key) {\n",
              "          const quickchartButtonEl =\n",
              "            document.querySelector('#' + key + ' button');\n",
              "          quickchartButtonEl.disabled = true;  // To prevent multiple clicks.\n",
              "          quickchartButtonEl.classList.add('colab-df-spinner');\n",
              "          try {\n",
              "            const charts = await google.colab.kernel.invokeFunction(\n",
              "                'suggestCharts', [key], {});\n",
              "          } catch (error) {\n",
              "            console.error('Error during call to suggestCharts:', error);\n",
              "          }\n",
              "          quickchartButtonEl.classList.remove('colab-df-spinner');\n",
              "          quickchartButtonEl.classList.add('colab-df-quickchart-complete');\n",
              "        }\n",
              "        (() => {\n",
              "          let quickchartButtonEl =\n",
              "            document.querySelector('#df-2ce26e3f-7c49-4032-9329-c4756ef08e85 button');\n",
              "          quickchartButtonEl.style.display =\n",
              "            google.colab.kernel.accessAllowed ? 'block' : 'none';\n",
              "        })();\n",
              "      </script>\n",
              "    </div>\n",
              "\n",
              "    </div>\n",
              "  </div>\n"
            ],
            "application/vnd.google.colaboratory.intrinsic+json": {
              "type": "dataframe",
              "summary": "{\n  \"name\": \"pd\",\n  \"rows\": 9,\n  \"fields\": [\n    {\n      \"column\": \"Cats are small, carnivorous mammals that are often kept as pets.\",\n      \"properties\": {\n        \"dtype\": \"float32\",\n        \"num_unique_values\": 9,\n        \"samples\": [\n          0.024458086118102074,\n          0.44396543502807617,\n          0.2451329529285431\n        ],\n        \"semantic_type\": \"\",\n        \"description\": \"\"\n      }\n    },\n    {\n      \"column\": \"Dogs are loyal animals and are known for their companionship.\",\n      \"properties\": {\n        \"dtype\": \"float32\",\n        \"num_unique_values\": 9,\n        \"samples\": [\n          0.15639056265354156,\n          0.9999998807907104,\n          0.22637939453125\n        ],\n        \"semantic_type\": \"\",\n        \"description\": \"\"\n      }\n    },\n    {\n      \"column\": \"The sun is the star at the center of the solar system.\",\n      \"properties\": {\n        \"dtype\": \"float32\",\n        \"num_unique_values\": 9,\n        \"samples\": [\n          0.1240728497505188,\n          0.10122809559106827,\n          -0.04973583295941353\n        ],\n        \"semantic_type\": \"\",\n        \"description\": \"\"\n      }\n    },\n    {\n      \"column\": \"Artificial Intelligence is a branch of computer science focused on building smart machines.\",\n      \"properties\": {\n        \"dtype\": \"float32\",\n        \"num_unique_values\": 9,\n        \"samples\": [\n          0.6288172006607056,\n          0.070074662566185,\n          0.07770145684480667\n        ],\n        \"semantic_type\": \"\",\n        \"description\": \"\"\n      }\n    },\n    {\n      \"column\": \"Python is a popular programming language known for its simplicity.\",\n      \"properties\": {\n        \"dtype\": \"float32\",\n        \"num_unique_values\": 9,\n        \"samples\": [\n          0.21771177649497986,\n          0.16755127906799316,\n          0.5776425004005432\n        ],\n        \"semantic_type\": \"\",\n        \"description\": \"\"\n      }\n    },\n    {\n      \"column\": \"Python is a breed of snakes\",\n      \"properties\": {\n        \"dtype\": \"float32\",\n        \"num_unique_values\": 9,\n        \"samples\": [\n          0.03021359071135521,\n          0.22637939453125,\n          1.0000001192092896\n        ],\n        \"semantic_type\": \"\",\n        \"description\": \"\"\n      }\n    },\n    {\n      \"column\": \"SpaceX was founded by Elon Musk to revolutionize space transportation.\",\n      \"properties\": {\n        \"dtype\": \"float32\",\n        \"num_unique_values\": 9,\n        \"samples\": [\n          0.055412642657756805,\n          -0.046524591743946075,\n          0.04189547896385193\n        ],\n        \"semantic_type\": \"\",\n        \"description\": \"\"\n      }\n    },\n    {\n      \"column\": \"Machine Learning is a subset of AI that allows systems to learn from data.\",\n      \"properties\": {\n        \"dtype\": \"float32\",\n        \"num_unique_values\": 9,\n        \"samples\": [\n          1.000000238418579,\n          0.15639056265354156,\n          0.03021359071135521\n        ],\n        \"semantic_type\": \"\",\n        \"description\": \"\"\n      }\n    },\n    {\n      \"column\": \"The Great Wall of China is one of the largest man-made structures in the world.\",\n      \"properties\": {\n        \"dtype\": \"float32\",\n        \"num_unique_values\": 9,\n        \"samples\": [\n          0.006263155955821276,\n          -0.018565339967608452,\n          0.09076358377933502\n        ],\n        \"semantic_type\": \"\",\n        \"description\": \"\"\n      }\n    }\n  ]\n}"
            }
          },
          "metadata": {},
          "execution_count": 33
        }
      ]
    },
    {
      "cell_type": "markdown",
      "source": [
        "# Step 4: Create a FAISS index and add document vectors"
      ],
      "metadata": {
        "id": "vAJtu8S-YSjy"
      }
    },
    {
      "cell_type": "code",
      "source": [
        "dimension = doc_embeddings.shape[1]\n",
        "\n",
        "# IndexFlatL2 is for Euclidean distance metric\n",
        "vector_index = faiss.IndexFlatL2(dimension)\n",
        "\n",
        "vector_index.add(doc_embeddings)"
      ],
      "metadata": {
        "id": "lPpVf0bZyMKA"
      },
      "execution_count": 34,
      "outputs": []
    },
    {
      "cell_type": "markdown",
      "source": [
        "# Step 5: Define user query and embed it"
      ],
      "metadata": {
        "id": "GFOXdbwwYWUK"
      }
    },
    {
      "cell_type": "code",
      "source": [
        "# query = \"Tell me about Programming Languages.\"\n",
        "# query = \"Tell me about Python.\"\n",
        "query = \"Tell me about Donald Trump.\"\n",
        "\n",
        "query_embed = model.encode([query], convert_to_numpy=True)"
      ],
      "metadata": {
        "id": "nOcJClTDyR5v"
      },
      "execution_count": 38,
      "outputs": []
    },
    {
      "cell_type": "markdown",
      "source": [
        "# Step 6: Perform similarity search"
      ],
      "metadata": {
        "id": "HW-U81gQYgy9"
      }
    },
    {
      "cell_type": "code",
      "source": [
        "top_k = 3\n",
        "\n",
        "distances, indices = vector_index.search(query_embed, top_k)"
      ],
      "metadata": {
        "id": "YL7e2Q1vyUl7"
      },
      "execution_count": 39,
      "outputs": []
    },
    {
      "cell_type": "markdown",
      "source": [
        "# Step 7: Display results"
      ],
      "metadata": {
        "id": "J-VHWbuaYkIt"
      }
    },
    {
      "cell_type": "code",
      "source": [
        "print(f\"Query - {query}\")\n",
        "print(\"\\nTop Results:\")\n",
        "for i, idx in enumerate(indices[0]):\n",
        "  print(f\"{i+1}. {documents[idx]} | Scores: {distances[0][i]:.4f}\")"
      ],
      "metadata": {
        "colab": {
          "base_uri": "https://localhost:8080/"
        },
        "id": "T2DI44-byUsf",
        "outputId": "97217879-f9cb-4bd5-f505-8c7cdaba2275"
      },
      "execution_count": 40,
      "outputs": [
        {
          "output_type": "stream",
          "name": "stdout",
          "text": [
            "Query - Tell me about Donald Trump.\n",
            "\n",
            "Top Results:\n",
            "1. The Great Wall of China is one of the largest man-made structures in the world. | Scores: 1.7032\n",
            "2. SpaceX was founded by Elon Musk to revolutionize space transportation. | Scores: 1.7071\n",
            "3. Artificial Intelligence is a branch of computer science focused on building smart machines. | Scores: 1.7746\n"
          ]
        }
      ]
    },
    {
      "cell_type": "markdown",
      "source": [
        "# Limitations and futher use cases"
      ],
      "metadata": {
        "id": "HZITQgi5m_cY"
      }
    },
    {
      "cell_type": "markdown",
      "source": [
        "\n",
        "\n",
        "*   Struggles if there are no relevant documents at all.\n",
        "*   All the items listed might be not relevant, so better to keep top_k as small number.\n",
        "*   Use case: RAG is a very popular use case which utilizes Vector Search internally\n",
        "\n"
      ],
      "metadata": {
        "id": "SpghWnjWes9v"
      }
    },
    {
      "cell_type": "code",
      "source": [],
      "metadata": {
        "id": "kJV7eK25nIMM"
      },
      "execution_count": null,
      "outputs": []
    }
  ],
  "metadata": {
    "kernelspec": {
      "display_name": "Python 3",
      "language": "python",
      "name": "python3"
    },
    "language_info": {
      "name": "python",
      "version": "3.8"
    },
    "colab": {
      "provenance": []
    }
  },
  "nbformat": 4,
  "nbformat_minor": 0
}